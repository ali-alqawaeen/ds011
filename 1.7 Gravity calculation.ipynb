{
 "cells": [
  {
   "cell_type": "markdown",
   "id": "e871fb36",
   "metadata": {},
   "source": [
    "<section>\n",
    "<div class=\"os-note-body\"><h3 data-type=\"title\" class=\"os-subtitle\">\n",
    "  <span class=\"os-subtitle-label\">1.7 Gravity calculation</span>\n",
    "</h3>\n",
    "<p id=\"para-00019\">Write a docstring for the following program. The first line of the docstring should explain, in one short sentence, what the program is. The second line of the docstring should be blank. The third and subsequent lines should include a longer explanation of what the program does. At the end of the docstring, add a line that says <code data-type=\"code\" class=\"python inline-code\" data-lang=\"python\"><span class=\"hljs-string\">\"Author: \"</span></code> followed by your name.</p>\n",
    "<div data-type=\"media\" data-alt=\"gravity_calculation_program\">\n",
    "\n",
    "</div></section>"
   ]
  },
  {
   "cell_type": "code",
   "execution_count": null,
   "id": "dcf81005",
   "metadata": {
    "vscode": {
     "languageId": "plaintext"
    }
   },
   "outputs": [],
   "source": [
    "name = input(\"What is your name? \")\n",
    "print(\"Hello,\", name + \"!\")\n",
    "\n",
    "# mass of the planet earth\n",
    "m1 = 5.98e24\n",
    "# mass of a person (in kg)\n",
    "m2 = 70\n",
    "# distance from earth's center\n",
    "r = 6.38e6\n",
    "\n",
    "# gravitational constant\n",
    "G = 6.674e-11\n",
    "# Newton's law of universal gravitation\n",
    "F = G * (m1 * m2) / r**2\n",
    "\n",
    "print(\"The force of gravity is\", F, \"Newtons\")\n"
   ]
  }
 ],
 "metadata": {
  "language_info": {
   "name": "python"
  }
 },
 "nbformat": 4,
 "nbformat_minor": 5
}

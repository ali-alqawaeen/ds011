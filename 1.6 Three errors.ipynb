{
 "cells": [
  {
   "cell_type": "markdown",
   "id": "10fc9ce9",
   "metadata": {},
   "source": [
    "<section>\n",
    "<div class=\"os-note-body\"><h3 data-type=\"title\" class=\"os-subtitle\">\n",
    "  <span class=\"os-subtitle-label\">1.6 Three errors</span>\n",
    "</h3>\n",
    "<p id=\"para-00016\">The following program has three errors.</p>\n",
    "<ul id=\"list-00003\">\n",
    "<li>Run the program to find the first error, and correct the corresponding line of code.</li>\n",
    "<li>Then run the program again to find and correct the second error.</li>\n",
    "<li>Keep running and correcting the program until no errors are found.</li>\n",
    "</ul>\n",
    "<div data-type=\"media\" data-alt=\"three_errors_program\">\n",
    "\n",
    "</div></section>"
   ]
  },
  {
   "cell_type": "code",
   "execution_count": null,
   "id": "6222ab12",
   "metadata": {
    "vscode": {
     "languageId": "plaintext"
    }
   },
   "outputs": [],
   "source": [
    "word = input(\"What is your favorite word? ')\n",
    "print()\n",
    "print(\"You said:\", Word)\n",
    " print(\"That's all, Folks!\")\n",
    "\n",
    "\n",
    "# input: solidarity"
   ]
  }
 ],
 "metadata": {
  "language_info": {
   "name": "python"
  }
 },
 "nbformat": 4,
 "nbformat_minor": 5
}

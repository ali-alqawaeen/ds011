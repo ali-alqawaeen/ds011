{
 "cells": [
  {
   "cell_type": "markdown",
   "id": "5e0c39da",
   "metadata": {},
   "source": [
    "<section>\n",
    "<div class=\"os-note-body\"><h3 data-type=\"title\" class=\"os-subtitle\">\n",
    "  <span class=\"os-subtitle-label\">1.6 Wrong symbols</span>\n",
    "</h3>\n",
    "<p id=\"para-00017\">This code is based on an earlier example, but the code contains several mistakes.</p>\n",
    "<ul id=\"list-00004\">\n",
    "<li>One line is missing required punctuation, and another line uses incorrect symbols.</li>\n",
    "<li>Run the program to find the first error, and correct the corresponding line of code.</li>\n",
    "<li>Keep running and correcting the program until no errors are found.</li>\n",
    "</ul>\n",
    "<div data-type=\"media\" data-alt=\"wrong_symbols_program\">\n",
    "\n",
    "</div></section>"
   ]
  },
  {
   "cell_type": "code",
   "execution_count": null,
   "id": "c3cdd8d1",
   "metadata": {},
   "outputs": [],
   "source": [
    "team1 = \"Liverpool\"\n",
    "score1 = \"4\"\n",
    "team2 = \"Chelsea\"\n",
    "score2 = \"3\"\n",
    "\n",
    "print(team1 \"versus\" team2)\n",
    "print[\"Final score:\" score1 \"to\" score2]\n"
   ]
  }
 ],
 "metadata": {
  "kernelspec": {
   "display_name": ".venv",
   "language": "python",
   "name": "python3"
  },
  "language_info": {
   "codemirror_mode": {
    "name": "ipython",
    "version": 3
   },
   "file_extension": ".py",
   "mimetype": "text/x-python",
   "name": "python",
   "nbconvert_exporter": "python",
   "pygments_lexer": "ipython3",
   "version": "3.13.0"
  }
 },
 "nbformat": 4,
 "nbformat_minor": 5
}

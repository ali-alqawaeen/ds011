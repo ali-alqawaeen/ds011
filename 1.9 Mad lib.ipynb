{
 "cells": [
  {
   "cell_type": "markdown",
   "id": "c32d8440",
   "metadata": {},
   "source": [
    "<section>\n",
    "<div class=\"os-note-body\"><h3 data-type=\"title\" class=\"os-subtitle\">\n",
    "  <span class=\"os-subtitle-label\">1.9 Mad lib</span>\n",
    "</h3>\n",
    "    <p id=\"para-00022\">A mad lib is a word game in which one person asks others for words to substitute into a pre-written story. The story is then read aloud with the goal of making people laugh.</p>\n",
    "    <p id=\"para-00023\">This exercise is based the <a href=\"https://openstax.org/r/100madlibs\" target=\"_blank\" rel=\"noopener nofollow\">Vacations Mad Lib</a> available on the <a href=\"https://openstax.org/r/100printable\" target=\"_blank\" rel=\"noopener nofollow\">Printables</a> section of MadLibs.com. Write a program that asks the user to input two adjectives and two nouns (user input in bold):</p>\n",
    "    <pre data-type=\"code\">    Adjective: <strong>tranquil</strong>\n",
    "    Adjective: <strong>scandalous</strong>\n",
    "    Noun: <strong>pancake</strong>\n",
    "    Noun: <strong>field</strong></pre>\n",
    "    <p id=\"para-00024\">Use <code data-type=\"code\" class=\"python inline-code\" data-lang=\"python\"><span class=\"hljs-built_in\">input</span>()</code> to display each prompt exactly as shown. The user's input should be on the same line as the prompt. Each colon must be followed by exactly one space. After reading the input, the program should output the following three lines:</p>\n",
    "    <pre data-type=\"code\">    A vacation is when you take a trip to some <strong>tranquil</strong> place with your <strong>scandalous</strong> family.\n",
    "    Usually you go to some place that is near a/an <strong>pancake</strong> or up on a/an <strong>field</strong>.</pre>\n",
    "    <p id=\"para-00025\">Notice that the first line should be completely blank.  Replace the bold words (from the above example) with the actual words input by the user.</p>\n",
    "    <p id=\"para-00026\">Your final program should have four input statements, three print statements, and at least two comments. For completeness, write an appropriate docstring at the top of the program.</p>\n",
    "    \n",
    "</div></section>"
   ]
  },
  {
   "cell_type": "code",
   "execution_count": null,
   "id": "c72b41a8",
   "metadata": {
    "vscode": {
     "languageId": "plaintext"
    }
   },
   "outputs": [],
   "source": [
    "'''\n",
    "input:\n",
    "\n",
    "tranquil\n",
    "scandalous\n",
    "pancake\n",
    "field\n",
    "\n",
    "'''"
   ]
  }
 ],
 "metadata": {
  "language_info": {
   "name": "python"
  }
 },
 "nbformat": 4,
 "nbformat_minor": 5
}

{
 "cells": [
  {
   "cell_type": "markdown",
   "id": "fc898a20",
   "metadata": {},
   "source": [
    "<section>\n",
    "<div class=\"os-note-body\"><h3 data-type=\"title\" class=\"os-subtitle\">\n",
    "  <span class=\"os-subtitle-label\">1.7 Whose birthday</span>\n",
    "</h3>\n",
    "<p id=\"para-00018\">Add two comments to the following program: one for the input, and one for the output. Separate the input and output with a blank line. Then, compare your comments with the sample solution, and ask yourself the following questions:</p>\n",
    "<ul id=\"list-00004\">\n",
    "<li>Are your comments longer or shorter? Why?</li>\n",
    "<li>Is the formatting of your comments correct?</li>\n",
    "</ul>\n",
    "<div data-type=\"media\" data-alt=\"whose_birthday_program\">\n",
    "\n",
    "</div></section>"
   ]
  },
  {
   "cell_type": "code",
   "execution_count": null,
   "id": "8218da13",
   "metadata": {
    "vscode": {
     "languageId": "plaintext"
    }
   },
   "outputs": [],
   "source": [
    "name = input(\"Whose birthday is today? \")\n",
    "name = name + \"!\"\n",
    "print()\n",
    "print(\"Happy birthday to\", name)\n",
    "print(\"Everyone cheer for\", name)\n"
   ]
  }
 ],
 "metadata": {
  "language_info": {
   "name": "python"
  }
 },
 "nbformat": 4,
 "nbformat_minor": 5
}

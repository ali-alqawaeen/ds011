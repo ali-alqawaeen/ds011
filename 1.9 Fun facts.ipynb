{
 "cells": [
  {
   "cell_type": "markdown",
   "id": "b88f6078",
   "metadata": {},
   "source": [
    "<section>\n",
    "<div class=\"os-note-body\"><h3 data-type=\"title\" class=\"os-subtitle\">\n",
    "  <span class=\"os-subtitle-label\">1.9 Fun facts</span>\n",
    "</h3>\n",
    "    <p id=\"para-00019\">Write a program that assigns a variable named <code data-type=\"code\" class=\"python inline-code\" data-lang=\"python\">number</code> to any integer of your choice. Ex: <code data-type=\"code\" class=\"python inline-code\" data-lang=\"python\">number = <span class=\"hljs-number\">74</span></code>. Then, use this variable to calculate and output the following results:</p>\n",
    "    <pre data-type=\"code\">    74 squared is 5476\n",
    "    74 cubed is 405224\n",
    "    One tenth of 74 is 7.4\n",
    "    74 plus 123 is 197\n",
    "    74 minus 456 is -382</pre>\n",
    "    <p id=\"para-00020\">Run the program multiple times, using a different integer each time. Your output should be mathematically correct for any integer that you choose.</p>\n",
    "    <p id=\"para-00021\">The point of this exercise is to perform basic arithmetic within a print statement. Do not use any other variables besides <code data-type=\"code\" class=\"python inline-code\" data-lang=\"python\">number</code>. Your program should have only one assignment statement (at the beginning).</p>\n",
    "    <div data-type=\"media\" data-alt=\"fun_facts_program\">\n",
    "    \n",
    "  </div></section>"
   ]
  },
  {
   "cell_type": "code",
   "execution_count": null,
   "id": "49db97cc",
   "metadata": {
    "vscode": {
     "languageId": "plaintext"
    }
   },
   "outputs": [],
   "source": []
  }
 ],
 "metadata": {
  "language_info": {
   "name": "python"
  }
 },
 "nbformat": 4,
 "nbformat_minor": 5
}

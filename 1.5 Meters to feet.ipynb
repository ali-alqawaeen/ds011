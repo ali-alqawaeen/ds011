{
 "cells": [
  {
   "cell_type": "markdown",
   "id": "aa32a380",
   "metadata": {},
   "source": [
    "<section>\n",
    "<div class=\"os-note-body\"><h3 data-type=\"title\" class=\"os-subtitle\">\n",
    "  <span class=\"os-subtitle-label\">1.5 Meters to feet</span>\n",
    "</h3>\n",
    "<p id=\"para-00020\">Write a Python computer program that:\n",
    "</p><ol id=\"list-00004\">\n",
    "<li>Assigns the integer value <code data-type=\"code\" class=\"python inline-code\" data-lang=\"python\"><span class=\"hljs-number\">10</span></code> to a variable, <code data-type=\"code\" class=\"python inline-code\" data-lang=\"python\">meters</code>.</li>\n",
    "<li>Assigns the floating-point value <code data-type=\"code\" class=\"python inline-code\" data-lang=\"python\"><span class=\"hljs-number\">3.28</span></code> to a variable, <code data-type=\"code\" class=\"python inline-code\" data-lang=\"python\">meter2feet</code>.</li>\n",
    "<li>Calculates 10 meters in feet by multiplying <code data-type=\"code\" class=\"python inline-code\" data-lang=\"python\">meter</code> by <code data-type=\"code\" class=\"python inline-code\" data-lang=\"python\">meter2feet</code>. Store the result in a variable, <code data-type=\"code\" class=\"python inline-code\" data-lang=\"python\">feet</code>.</li>\n",
    "<li>Prints the content of variable <code data-type=\"code\" class=\"python inline-code\" data-lang=\"python\">feet</code> in the output.</li>\n",
    "</ol>\n",
    "<div data-type=\"media\" data-alt=\"meters_to_feet_program\">\n",
    "\n",
    "</div></section>"
   ]
  },
  {
   "cell_type": "code",
   "execution_count": null,
   "id": "640a6bfd",
   "metadata": {
    "vscode": {
     "languageId": "plaintext"
    }
   },
   "outputs": [],
   "source": []
  }
 ],
 "metadata": {
  "language_info": {
   "name": "python"
  }
 },
 "nbformat": 4,
 "nbformat_minor": 5
}

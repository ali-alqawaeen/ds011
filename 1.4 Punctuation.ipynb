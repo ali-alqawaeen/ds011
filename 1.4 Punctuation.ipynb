{
 "cells": [
  {
   "cell_type": "markdown",
   "id": "23b83327",
   "metadata": {},
   "source": [
    "<section>\n",
    "<div class=\"os-note-body\"><h3 data-type=\"title\" class=\"os-subtitle\">\n",
    "  <span class=\"os-subtitle-label\">1.4 Punctuation</span>\n",
    "</h3>\n",
    "<p id=\"para-00018\">Write a Python computer program that:\n",
    "</p><ul id=\"list-00002\">\n",
    "<li>Assigns the string <code data-type=\"code\" class=\"python\" data-lang=\"python\"><span class=\"hljs-string\">\"Freda\"</span></code> to a variable, <code data-type=\"code\" class=\"python\" data-lang=\"python\">name</code>.</li>\n",
    "<li>Assigns the string <code data-type=\"code\" class=\"python\" data-lang=\"python\"><span class=\"hljs-string\">\"happy\"</span></code> to a variable, <code data-type=\"code\" class=\"python\" data-lang=\"python\">feel</code>.</li>\n",
    "<li>Prints the string <code data-type=\"code\" class=\"python inline-code\" data-lang=\"python\"><span class=\"hljs-string\">\"Hi Freda!\"</span></code> with a single <code data-type=\"code\" class=\"python inline-code\" data-lang=\"python\">print()</code> function using the variable <code data-type=\"code\" class=\"python\" data-lang=\"python\">name</code>.</li>\n",
    "<li>Prints the string <code data-type=\"code\" class=\"python\" data-lang=\"python\"><span class=\"hljs-string\">\"I'm glad you feel happy.\"</span></code> with a single <code data-type=\"code\" class=\"python inline-code\" data-lang=\"python\">print()</code> function using the variable <code data-type=\"code\" class=\"python\" data-lang=\"python\">feel</code>.</li>\n",
    "</ul>\n",
    "\n",
    "</div></section>"
   ]
  },
  {
   "cell_type": "code",
   "execution_count": null,
   "id": "2cede60a",
   "metadata": {
    "vscode": {
     "languageId": "plaintext"
    }
   },
   "outputs": [],
   "source": [
    "# Type your code after this comment\n"
   ]
  }
 ],
 "metadata": {
  "language_info": {
   "name": "python"
  }
 },
 "nbformat": 4,
 "nbformat_minor": 5
}

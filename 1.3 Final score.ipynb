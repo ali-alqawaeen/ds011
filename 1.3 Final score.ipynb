{
 "cells": [
  {
   "cell_type": "markdown",
   "id": "17d3b751",
   "metadata": {},
   "source": [
    "<section>\n",
    "<div class=\"os-note-body\"><h3 data-type=\"title\" class=\"os-subtitle\">\n",
    "  <span class=\"os-subtitle-label\">1.3 Final score</span>\n",
    "</h3>\n",
    "<p id=\"para-00014\">Write a Python computer program that:\n",
    "</p><ul id=\"list-00002\">\n",
    "<li>Creates a variable, <code data-type=\"code\" class=\"python inline-code\" data-lang=\"python\">team1</code>, assigned with the value <code data-type=\"code\" class=\"python inline-code\" data-lang=\"python\"><span class=\"hljs-string\">\"Liverpool\"</span></code>.</li>\n",
    "<li>Creates a variable, <code data-type=\"code\" class=\"python inline-code\" data-lang=\"python\">team2</code>, assigned with the value <code data-type=\"code\" class=\"python inline-code\" data-lang=\"python\"><span class=\"hljs-string\">\"Chelsea\"</span></code>.</li>\n",
    "<li>Creates a variable <code data-type=\"code\" class=\"python inline-code\" data-lang=\"python\">score1</code>, assigned with the value <code data-type=\"code\" class=\"python inline-code\" data-lang=\"python\"><span class=\"hljs-number\">4</span></code>.</li>\n",
    "<li>Creates a variable, <code data-type=\"code\" class=\"python inline-code\" data-lang=\"python\">score2</code>, assigned with the value <code data-type=\"code\" class=\"python inline-code\" data-lang=\"python\"><span class=\"hljs-number\">3</span></code>.</li>\n",
    "<li>Prints <code data-type=\"code\" class=\"python inline-code\" data-lang=\"python\">team1</code>, <code data-type=\"code\" class=\"python inline-code\" data-lang=\"python\"><span class=\"hljs-string\">\"versus\"</span></code>, and <code data-type=\"code\" class=\"python inline-code\" data-lang=\"python\">team2</code> as a single line of output.</li>\n",
    "<li>Prints <code data-type=\"code\" class=\"python inline-code\" data-lang=\"python\"><span class=\"hljs-string\">\"Final score: \"</span></code>, <code data-type=\"code\" class=\"python inline-code\" data-lang=\"python\">score1</code>, <code data-type=\"code\" class=\"python inline-code\" data-lang=\"python\"><span class=\"hljs-string\">\"to\"</span></code>, <code data-type=\"code\" class=\"python inline-code\" data-lang=\"python\">score2</code> as a single line of output.</li>\n",
    "</ul>\n",
    "\n",
    "</div></section>"
   ]
  },
  {
   "cell_type": "code",
   "execution_count": null,
   "id": "ed451567",
   "metadata": {
    "vscode": {
     "languageId": "plaintext"
    }
   },
   "outputs": [],
   "source": [
    "# Type your code after this comment\n"
   ]
  }
 ],
 "metadata": {
  "language_info": {
   "name": "python"
  }
 },
 "nbformat": 4,
 "nbformat_minor": 5
}

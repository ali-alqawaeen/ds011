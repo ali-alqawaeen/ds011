{
 "cells": [
  {
   "cell_type": "markdown",
   "id": "04d576f5",
   "metadata": {},
   "source": [
    "<section>\n",
    "<div class=\"os-note-body\"><h3 data-type=\"title\" class=\"os-subtitle\">\n",
    "  <span class=\"os-subtitle-label\">1.2 Name and likes</span>\n",
    "</h3>\n",
    "    <p id=\"para-00015\">Write a program that asks the following two questions (example input in bold):</p>\n",
    "    <pre data-type=\"code\">    What is your name? <strong>Shakira</strong>\n",
    "    What do you like? <strong>singing</strong></pre>\n",
    "    <p id=\"para-00016\">Output a blank line after reading the input. Then output the following message based on the input:</p>\n",
    "    <pre data-type=\"code\">    <strong>Shakira</strong> likes <strong>singing</strong></pre>\n",
    "\n",
    "</div></section>"
   ]
  },
  {
   "cell_type": "code",
   "execution_count": null,
   "id": "abb3b794",
   "metadata": {
    "vscode": {
     "languageId": "plaintext"
    }
   },
   "outputs": [],
   "source": [
    "# Type your code after this comment\n"
   ]
  }
 ],
 "metadata": {
  "language_info": {
   "name": "python"
  }
 },
 "nbformat": 4,
 "nbformat_minor": 5
}

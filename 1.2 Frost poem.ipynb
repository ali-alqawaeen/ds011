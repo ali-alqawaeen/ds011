{
 "cells": [
  {
   "cell_type": "markdown",
   "id": "63186e01",
   "metadata": {},
   "source": [
    "<section>\n",
    "<div class=\"os-note-body\"><h3 data-type=\"title\" class=\"os-subtitle\">\n",
    "  <span class=\"os-subtitle-label\">1.2 Frost poem</span>\n",
    "</h3>\n",
    "    <p id=\"para-00013\">Write a program that uses multiple <code data-type=\"code\" class=\"python inline-code\" data-lang=\"python\">print()</code> statements to output the following poem by <a href=\"https://openstax.org/r/100robertfrost\" target=\"_blank\" rel=\"noopener nofollow\">Robert Frost</a>. Each <code data-type=\"code\" class=\"python inline-code\" data-lang=\"python\">print()</code> statement should correspond to one line of output.</p>\n",
    "    <p id=\"para-00014\"><em data-effect=\"italics\">Tip:</em> You don't need to write the entire program all at once. Try writing the first <code data-type=\"code\" class=\"python inline-code\" data-lang=\"python\">print()</code> statement, and then click the Run button. Then write the next <code data-type=\"code\" class=\"python inline-code\" data-lang=\"python\">print()</code> statement, and click the Run button again. Continue writing and testing the code incrementally until you finish the program.</p>\n",
    "    <pre data-type=\"code\">    I shall be telling this with a sigh\n",
    "    Somewhere ages and ages hence:\n",
    "    Two roads diverged in a wood, and I--\n",
    "    I took the one less traveled by,\n",
    "    And that has made all the difference.</pre>\n",
    "\n",
    "</div></section>"
   ]
  },
  {
   "cell_type": "code",
   "execution_count": null,
   "id": "5eab7e5e",
   "metadata": {
    "vscode": {
     "languageId": "plaintext"
    }
   },
   "outputs": [],
   "source": [
    "# Type your code after this comment\n"
   ]
  }
 ],
 "metadata": {
  "language_info": {
   "name": "python"
  }
 },
 "nbformat": 4,
 "nbformat_minor": 5
}

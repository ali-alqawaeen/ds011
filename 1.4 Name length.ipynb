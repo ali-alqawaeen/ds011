{
 "cells": [
  {
   "cell_type": "markdown",
   "id": "b558c6bb",
   "metadata": {},
   "source": [
    "<section>\n",
    "<div class=\"os-note-body\"><h3 data-type=\"title\" class=\"os-subtitle\">\n",
    "  <span class=\"os-subtitle-label\">1.4 Name length</span>\n",
    "</h3>\n",
    "  <p id=\"para-00019\">Write a program that asks the user to input their first and last name separately. Use the following prompts (example input in bold):</p>\n",
    "  <pre data-type=\"code\">  What is your first name? Alan\n",
    "  What is your last name? Turing</pre> \n",
    "  <p id=\"para-00020\">The program should then output the length of each name. Based on the example input above, the output would be:  </p> \n",
    "  <pre data-type=\"code\">  Your first name is 4 letters long\n",
    "  Your last name is 6 letters long</pre> \n",
    "  <div data-type=\"media\" data-alt=\"name_length_program\">\n",
    "\n",
    "  </div></section>"
   ]
  },
  {
   "cell_type": "code",
   "execution_count": null,
   "id": "a6da19c5",
   "metadata": {
    "vscode": {
     "languageId": "plaintext"
    }
   },
   "outputs": [],
   "source": []
  }
 ],
 "metadata": {
  "language_info": {
   "name": "python"
  }
 },
 "nbformat": 4,
 "nbformat_minor": 5
}

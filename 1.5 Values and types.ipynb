{
 "cells": [
  {
   "cell_type": "markdown",
   "id": "a844bc81",
   "metadata": {},
   "source": [
    "<section>\n",
    "<div class=\"os-note-body\"><h3 data-type=\"title\" class=\"os-subtitle\">\n",
    "  <span class=\"os-subtitle-label\">1.5 Values and types</span>\n",
    "</h3>\n",
    "<p id=\"para-00019\">Write a Python computer program that:\n",
    "</p><ol id=\"list-00003\">\n",
    "<li>Defines an integer variable named <code data-type=\"code\" class=\"python inline-code\" data-lang=\"python\"><span class=\"hljs-string\">'int_a'</span></code> and assigns <code data-type=\"code\" class=\"python inline-code\" data-lang=\"python\"><span class=\"hljs-string\">'int_a'</span></code> with the value <code data-type=\"code\" class=\"python inline-code\" data-lang=\"python\"><span class=\"hljs-number\">10</span></code>.</li>\n",
    "<li>Defines a floating-point variable named <code data-type=\"code\" class=\"python inline-code\" data-lang=\"python\"><span class=\"hljs-string\">'float_a'</span></code> and assigns <code data-type=\"code\" class=\"python inline-code\" data-lang=\"python\"><span class=\"hljs-string\">'float_a'</span></code> with the value <code data-type=\"code\" class=\"python inline-code\" data-lang=\"python\"><span class=\"hljs-number\">10.0</span></code>.</li>\n",
    "<li>Defines a string variable named <code data-type=\"code\" class=\"python inline-code\" data-lang=\"python\"><span class=\"hljs-string\">'string_a'</span></code> and assigns <code data-type=\"code\" class=\"python inline-code\" data-lang=\"python\"><span class=\"hljs-string\">'string_a'</span></code> with the string value <code data-type=\"code\" class=\"python inline-code\" data-lang=\"python\"><span class=\"hljs-string\">\"10\"</span></code>.</li>\n",
    "<li>Prints the value of each of the three variables along with their type.</li>\n",
    "</ol>\n",
    "\n",
    "</div></section>"
   ]
  },
  {
   "cell_type": "code",
   "execution_count": null,
   "id": "bc27b210",
   "metadata": {
    "vscode": {
     "languageId": "plaintext"
    }
   },
   "outputs": [],
   "source": []
  }
 ],
 "metadata": {
  "language_info": {
   "name": "python"
  }
 },
 "nbformat": 4,
 "nbformat_minor": 5
}

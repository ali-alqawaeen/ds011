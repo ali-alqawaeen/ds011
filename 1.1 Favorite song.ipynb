{
 "cells": [
  {
   "cell_type": "markdown",
   "id": "bd2d7945",
   "metadata": {},
   "source": [
    "<section>\n",
    "<div class=\"os-note-body\"><h3 data-type=\"title\" class=\"os-subtitle\">\n",
    "  <span class=\"os-subtitle-label\">1.1 Favorite song</span>\n",
    "</h3>\n",
    "<p id=\"para-00016\">The program below asks for your name and displays a friendly greeting. Run the program and see what happens. In the error message, EOF stands for End of File.</p>\n",
    "<ul id=\"list-00002\">\n",
    "<li>Many of the programs in this chapter expect input from the user. Enter your name in the Input box below the code. Run the program again, and see what changes.</li>\n",
    "<li>Copy the following lines to the end of the program:<span data-type=\"newline\"><br></span>\n",
    "<p id=\"para-00018\"><code data-type=\"code\" class=\"python\" data-lang=\"python\">\n",
    "song = input()<span data-type=\"newline\"><br></span>\n",
    "print(\"Cool! I like\", song, \"too.\")<span data-type=\"newline\"><br></span>\n",
    "print(<span class=\"hljs-string\">\"What is your favorite song?\"</span>)\n",
    "song = <span class=\"hljs-built_in\">input</span>()\n",
    "print(<span class=\"hljs-string\">\"Cool! I like\"</span>, song, <span class=\"hljs-string\">\"too.\"</span>)\n",
    "</code></p></li>\n",
    "<li>The modified program reads two lines of input: <code data-type=\"code\" class=\"python inline-code\" data-lang=\"python\">name</code> and <code data-type=\"code\" class=\"python inline-code\" data-lang=\"python\">song</code>. Add your favorite song to the Input box below your name, and run the program again.</li>\n",
    "</ul>\n",
    "<p id=\"para-00017\">The next section of the book will explain how <code data-type=\"code\" class=\"python inline-code\" data-lang=\"python\">print()</code> and <code data-type=\"code\" class=\"python inline-code\" data-lang=\"python\"><span class=\"hljs-built_in\">input</span>()</code> work. Feel free to experiment with this code until you are ready to move on.</p>\n",
    "\n",
    "</div></section>"
   ]
  },
  {
   "cell_type": "code",
   "execution_count": null,
   "id": "9e389237",
   "metadata": {},
   "outputs": [],
   "source": [
    "print(\"Hello! What is your name?\")\n",
    "name = input()\n",
    "print(\"Nice to meet you, \" + name + \".\")\n",
    "\n"
   ]
  }
 ],
 "metadata": {
  "kernelspec": {
   "display_name": ".venv",
   "language": "python",
   "name": "python3"
  },
  "language_info": {
   "codemirror_mode": {
    "name": "ipython",
    "version": 3
   },
   "file_extension": ".py",
   "mimetype": "text/x-python",
   "name": "python",
   "nbconvert_exporter": "python",
   "pygments_lexer": "ipython3",
   "version": "3.13.0"
  }
 },
 "nbformat": 4,
 "nbformat_minor": 5
}
